{
  "nbformat": 4,
  "nbformat_minor": 0,
  "metadata": {
    "colab": {
      "name": "ciclo while.ipynb",
      "provenance": [],
      "authorship_tag": "ABX9TyOUCAiYANWL5tlticfLdTGV",
      "include_colab_link": true
    },
    "kernelspec": {
      "name": "python3",
      "display_name": "Python 3"
    },
    "language_info": {
      "name": "python"
    }
  },
  "cells": [
    {
      "cell_type": "markdown",
      "metadata": {
        "id": "view-in-github",
        "colab_type": "text"
      },
      "source": [
        "<a href=\"https://colab.research.google.com/github/javierCruzTrejo/Practica_entregar/blob/main/ciclo_while.ipynb\" target=\"_parent\"><img src=\"https://colab.research.google.com/assets/colab-badge.svg\" alt=\"Open In Colab\"/></a>"
      ]
    },
    {
      "cell_type": "markdown",
      "source": [
        "Elaborado por Luis Javier Cruz Trejo 23/08/2022"
      ],
      "metadata": {
        "id": "RghnEPenJR8j"
      }
    },
    {
      "cell_type": "code",
      "execution_count": 7,
      "metadata": {
        "colab": {
          "base_uri": "https://localhost:8080/"
        },
        "id": "4sRzp-jAJOdT",
        "outputId": "4c022bd8-a017-4d5e-9745-e7dc6138375b"
      },
      "outputs": [
        {
          "output_type": "stream",
          "name": "stdout",
          "text": [
            "Escribir un numero del 1 al 10 2\n",
            "2 X 1 = 2\n",
            "2 X 2 = 4\n",
            "2 X 3 = 6\n",
            "2 X 4 = 8\n",
            "2 X 5 = 10\n",
            "2 X 6 = 12\n",
            "2 X 7 = 14\n",
            "2 X 8 = 16\n",
            "2 X 9 = 18\n",
            "2 X 10 = 20\n"
          ]
        }
      ],
      "source": [
        "i=1\n",
        "m = int(input(\"Escribir un numero del 1 al 10 \"))\n",
        "while(i != 11):\n",
        "  print(m, \"X\",i,\"=\",m*i)\n",
        "  i=i+1"
      ]
    }
  ]
}
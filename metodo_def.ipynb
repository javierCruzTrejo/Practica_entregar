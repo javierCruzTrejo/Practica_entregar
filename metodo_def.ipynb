{
  "nbformat": 4,
  "nbformat_minor": 0,
  "metadata": {
    "colab": {
      "name": "metodo def.ipynb",
      "provenance": [],
      "authorship_tag": "ABX9TyORnvXfmFcXCi2VgQFnv6Hw",
      "include_colab_link": true
    },
    "kernelspec": {
      "name": "python3",
      "display_name": "Python 3"
    },
    "language_info": {
      "name": "python"
    }
  },
  "cells": [
    {
      "cell_type": "markdown",
      "metadata": {
        "id": "view-in-github",
        "colab_type": "text"
      },
      "source": [
        "<a href=\"https://colab.research.google.com/github/javierCruzTrejo/Practica_entregar/blob/main/metodo_def.ipynb\" target=\"_parent\"><img src=\"https://colab.research.google.com/assets/colab-badge.svg\" alt=\"Open In Colab\"/></a>"
      ]
    },
    {
      "cell_type": "markdown",
      "source": [
        "Uso de la funcion def Elaborado por Luis Javier Cruz Trejo 23/08/2022"
      ],
      "metadata": {
        "id": "3xfjMmTrORW-"
      }
    },
    {
      "cell_type": "code",
      "source": [
        "def holaMundo():\n",
        "  nombre = input(\"Escribe tu nombre\")\n",
        "  print(\"Hola \",nombre, \"Como estas\")\n",
        "\n",
        "holaMundo()\n"
      ],
      "metadata": {
        "colab": {
          "base_uri": "https://localhost:8080/"
        },
        "id": "AicucXSQOQkF",
        "outputId": "b1cae861-9a89-407f-d24d-fad92806cc30"
      },
      "execution_count": 1,
      "outputs": [
        {
          "output_type": "stream",
          "name": "stdout",
          "text": [
            "Escribe tu nombrejavier\n",
            "Hola  javier Como estas\n"
          ]
        }
      ]
    },
    {
      "cell_type": "markdown",
      "source": [
        "Mismo ejercicio con pasos de parametros Elaborado por Luis Javier Cruz Trejo 23/08/2022"
      ],
      "metadata": {
        "id": "UFoKuHkfPd7_"
      }
    },
    {
      "cell_type": "code",
      "source": [
        "def saludo(nombre):\n",
        "  print(\"Hola \",nombre, \"Como estas\")\n",
        "\n",
        "saludo(\"javeir\")\n",
        "nombre = input(\"Escribe tu nombre\")\n",
        "saludo()"
      ],
      "metadata": {
        "colab": {
          "base_uri": "https://localhost:8080/",
          "height": 235
        },
        "id": "I7HYmS7yPpsX",
        "outputId": "70cadce3-0969-4c2e-f8ef-29e7955ba2bb"
      },
      "execution_count": 6,
      "outputs": [
        {
          "name": "stdout",
          "output_type": "stream",
          "text": [
            "Hola  javeir Como estas\n",
            "Escribe tu nombreluis\n"
          ]
        },
        {
          "output_type": "error",
          "ename": "TypeError",
          "evalue": "ignored",
          "traceback": [
            "\u001b[0;31m---------------------------------------------------------------------------\u001b[0m",
            "\u001b[0;31mTypeError\u001b[0m                                 Traceback (most recent call last)",
            "\u001b[0;32m<ipython-input-6-c4786c94c66c>\u001b[0m in \u001b[0;36m<module>\u001b[0;34m\u001b[0m\n\u001b[1;32m      4\u001b[0m \u001b[0msaludo\u001b[0m\u001b[0;34m(\u001b[0m\u001b[0;34m\"javeir\"\u001b[0m\u001b[0;34m)\u001b[0m\u001b[0;34m\u001b[0m\u001b[0;34m\u001b[0m\u001b[0m\n\u001b[1;32m      5\u001b[0m \u001b[0mnombre\u001b[0m \u001b[0;34m=\u001b[0m \u001b[0minput\u001b[0m\u001b[0;34m(\u001b[0m\u001b[0;34m\"Escribe tu nombre\"\u001b[0m\u001b[0;34m)\u001b[0m\u001b[0;34m\u001b[0m\u001b[0;34m\u001b[0m\u001b[0m\n\u001b[0;32m----> 6\u001b[0;31m \u001b[0msaludo\u001b[0m\u001b[0;34m(\u001b[0m\u001b[0;34m)\u001b[0m\u001b[0;34m\u001b[0m\u001b[0;34m\u001b[0m\u001b[0m\n\u001b[0m",
            "\u001b[0;31mTypeError\u001b[0m: saludo() missing 1 required positional argument: 'nombre'"
          ]
        }
      ]
    }
  ]
}
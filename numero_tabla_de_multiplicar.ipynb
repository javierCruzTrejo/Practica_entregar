{
  "nbformat": 4,
  "nbformat_minor": 0,
  "metadata": {
    "colab": {
      "name": "numero tabla de multiplicar",
      "provenance": [],
      "collapsed_sections": [],
      "authorship_tag": "ABX9TyNJaF+TUQcxw0Cum2YsNGXF",
      "include_colab_link": true
    },
    "kernelspec": {
      "name": "python3",
      "display_name": "Python 3"
    },
    "language_info": {
      "name": "python"
    }
  },
  "cells": [
    {
      "cell_type": "markdown",
      "metadata": {
        "id": "view-in-github",
        "colab_type": "text"
      },
      "source": [
        "<a href=\"https://colab.research.google.com/github/javierCruzTrejo/Practica_entregar/blob/main/numero_tabla_de_multiplicar.ipynb\" target=\"_parent\"><img src=\"https://colab.research.google.com/assets/colab-badge.svg\" alt=\"Open In Colab\"/></a>"
      ]
    },
    {
      "cell_type": "markdown",
      "source": [
        "Pedir un numero y imprimimos la tabla de multip´licar de ese numero Elaborado por Luis Javier Cruz Trejo 23/08/2022"
      ],
      "metadata": {
        "id": "gLBTJz96FdXp"
      }
    },
    {
      "cell_type": "code",
      "source": [
        "i= int(input(\"Escribir un numero del 1 al 10\"))\n",
        "for n in range(1, 11):\n",
        "  print(n, \"X\",i,\"=\",n*i)"
      ],
      "metadata": {
        "colab": {
          "base_uri": "https://localhost:8080/"
        },
        "id": "GRxJEnSRFttX",
        "outputId": "9c0fe2da-1981-492b-81f1-8c4d82fb8c8d"
      },
      "execution_count": 2,
      "outputs": [
        {
          "output_type": "stream",
          "name": "stdout",
          "text": [
            "Escribir un numero del 1 al 105\n",
            "1 X 5 = 5\n",
            "2 X 5 = 10\n",
            "3 X 5 = 15\n",
            "4 X 5 = 20\n",
            "5 X 5 = 25\n",
            "6 X 5 = 30\n",
            "7 X 5 = 35\n",
            "8 X 5 = 40\n",
            "9 X 5 = 45\n",
            "10 X 5 = 50\n"
          ]
        }
      ]
    },
    {
      "cell_type": "code",
      "execution_count": null,
      "metadata": {
        "id": "Tp7BqFEPFTvw"
      },
      "outputs": [],
      "source": [
        ""
      ]
    }
  ]
}